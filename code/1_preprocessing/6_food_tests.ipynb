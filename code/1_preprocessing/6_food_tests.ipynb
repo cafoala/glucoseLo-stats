{
 "cells": [
  {
   "cell_type": "code",
   "execution_count": 2,
   "metadata": {},
   "outputs": [],
   "source": [
    "import pandas as pd"
   ]
  },
  {
   "cell_type": "code",
   "execution_count": 3,
   "metadata": {},
   "outputs": [],
   "source": [
    "df = pd.read_csv(\"../../data/tidy/paired_data/final_data_for_analysis_iob_check.csv\")"
   ]
  },
  {
   "cell_type": "code",
   "execution_count": 4,
   "metadata": {},
   "outputs": [],
   "source": [
    "ins_meal = pd.read_csv('../../data/raw/dexip_insulin_meal.csv')"
   ]
  },
  {
   "cell_type": "code",
   "execution_count": 5,
   "metadata": {},
   "outputs": [
    {
     "data": {
      "text/html": [
       "<div>\n",
       "<style scoped>\n",
       "    .dataframe tbody tr th:only-of-type {\n",
       "        vertical-align: middle;\n",
       "    }\n",
       "\n",
       "    .dataframe tbody tr th {\n",
       "        vertical-align: top;\n",
       "    }\n",
       "\n",
       "    .dataframe thead th {\n",
       "        text-align: right;\n",
       "    }\n",
       "</style>\n",
       "<table border=\"1\" class=\"dataframe\">\n",
       "  <thead>\n",
       "    <tr style=\"text-align: right;\">\n",
       "      <th></th>\n",
       "      <th>start_time</th>\n",
       "      <th>ID</th>\n",
       "      <th>insulin</th>\n",
       "      <th>during</th>\n",
       "      <th>meal_post_30</th>\n",
       "      <th>meal_post_60</th>\n",
       "    </tr>\n",
       "  </thead>\n",
       "  <tbody>\n",
       "    <tr>\n",
       "      <th>0</th>\n",
       "      <td>2021-02-13 15:07:00</td>\n",
       "      <td>dexip_6</td>\n",
       "      <td>0.446944</td>\n",
       "      <td>False</td>\n",
       "      <td>True</td>\n",
       "      <td>False</td>\n",
       "    </tr>\n",
       "    <tr>\n",
       "      <th>1</th>\n",
       "      <td>2021-02-14 19:21:00</td>\n",
       "      <td>dexip_6</td>\n",
       "      <td>1.477500</td>\n",
       "      <td>False</td>\n",
       "      <td>True</td>\n",
       "      <td>False</td>\n",
       "    </tr>\n",
       "    <tr>\n",
       "      <th>2</th>\n",
       "      <td>2021-02-15 17:15:00</td>\n",
       "      <td>dexip_6</td>\n",
       "      <td>0.952778</td>\n",
       "      <td>False</td>\n",
       "      <td>False</td>\n",
       "      <td>False</td>\n",
       "    </tr>\n",
       "    <tr>\n",
       "      <th>3</th>\n",
       "      <td>2021-02-16 14:00:00</td>\n",
       "      <td>dexip_6</td>\n",
       "      <td>0.531389</td>\n",
       "      <td>False</td>\n",
       "      <td>False</td>\n",
       "      <td>False</td>\n",
       "    </tr>\n",
       "    <tr>\n",
       "      <th>4</th>\n",
       "      <td>2021-02-18 16:22:56</td>\n",
       "      <td>dexip_6</td>\n",
       "      <td>0.998611</td>\n",
       "      <td>False</td>\n",
       "      <td>False</td>\n",
       "      <td>False</td>\n",
       "    </tr>\n",
       "    <tr>\n",
       "      <th>...</th>\n",
       "      <td>...</td>\n",
       "      <td>...</td>\n",
       "      <td>...</td>\n",
       "      <td>...</td>\n",
       "      <td>...</td>\n",
       "      <td>...</td>\n",
       "    </tr>\n",
       "    <tr>\n",
       "      <th>5983</th>\n",
       "      <td>2021-05-21 20:20:00</td>\n",
       "      <td>dexip_540</td>\n",
       "      <td>0.868611</td>\n",
       "      <td>False</td>\n",
       "      <td>False</td>\n",
       "      <td>False</td>\n",
       "    </tr>\n",
       "    <tr>\n",
       "      <th>5984</th>\n",
       "      <td>2021-05-22 07:15:48</td>\n",
       "      <td>dexip_540</td>\n",
       "      <td>NaN</td>\n",
       "      <td>False</td>\n",
       "      <td>False</td>\n",
       "      <td>False</td>\n",
       "    </tr>\n",
       "    <tr>\n",
       "      <th>5985</th>\n",
       "      <td>2021-05-22 11:10:04</td>\n",
       "      <td>dexip_540</td>\n",
       "      <td>NaN</td>\n",
       "      <td>False</td>\n",
       "      <td>False</td>\n",
       "      <td>False</td>\n",
       "    </tr>\n",
       "    <tr>\n",
       "      <th>5986</th>\n",
       "      <td>2021-05-22 14:46:52</td>\n",
       "      <td>dexip_540</td>\n",
       "      <td>NaN</td>\n",
       "      <td>False</td>\n",
       "      <td>False</td>\n",
       "      <td>False</td>\n",
       "    </tr>\n",
       "    <tr>\n",
       "      <th>5987</th>\n",
       "      <td>2021-05-22 16:44:00</td>\n",
       "      <td>dexip_540</td>\n",
       "      <td>NaN</td>\n",
       "      <td>False</td>\n",
       "      <td>False</td>\n",
       "      <td>False</td>\n",
       "    </tr>\n",
       "  </tbody>\n",
       "</table>\n",
       "<p>5988 rows × 6 columns</p>\n",
       "</div>"
      ],
      "text/plain": [
       "               start_time         ID   insulin  during  meal_post_30  \\\n",
       "0     2021-02-13 15:07:00    dexip_6  0.446944   False          True   \n",
       "1     2021-02-14 19:21:00    dexip_6  1.477500   False          True   \n",
       "2     2021-02-15 17:15:00    dexip_6  0.952778   False         False   \n",
       "3     2021-02-16 14:00:00    dexip_6  0.531389   False         False   \n",
       "4     2021-02-18 16:22:56    dexip_6  0.998611   False         False   \n",
       "...                   ...        ...       ...     ...           ...   \n",
       "5983  2021-05-21 20:20:00  dexip_540  0.868611   False         False   \n",
       "5984  2021-05-22 07:15:48  dexip_540       NaN   False         False   \n",
       "5985  2021-05-22 11:10:04  dexip_540       NaN   False         False   \n",
       "5986  2021-05-22 14:46:52  dexip_540       NaN   False         False   \n",
       "5987  2021-05-22 16:44:00  dexip_540       NaN   False         False   \n",
       "\n",
       "      meal_post_60  \n",
       "0            False  \n",
       "1            False  \n",
       "2            False  \n",
       "3            False  \n",
       "4            False  \n",
       "...            ...  \n",
       "5983         False  \n",
       "5984         False  \n",
       "5985         False  \n",
       "5986         False  \n",
       "5987         False  \n",
       "\n",
       "[5988 rows x 6 columns]"
      ]
     },
     "execution_count": 5,
     "metadata": {},
     "output_type": "execute_result"
    }
   ],
   "source": [
    "ins_meal"
   ]
  },
  {
   "cell_type": "code",
   "execution_count": 6,
   "metadata": {},
   "outputs": [
    {
     "name": "stderr",
     "output_type": "stream",
     "text": [
      "/tmp/ipykernel_42975/2166055512.py:11: SettingWithCopyWarning: \n",
      "A value is trying to be set on a copy of a slice from a DataFrame.\n",
      "Try using .loc[row_indexer,col_indexer] = value instead\n",
      "\n",
      "See the caveats in the documentation: https://pandas.pydata.org/pandas-docs/stable/user_guide/indexing.html#returning-a-view-versus-a-copy\n",
      "  selected_meal_helm['ID'] = 'helm_' + selected_meal_helm['ID'].astype(str)\n"
     ]
    }
   ],
   "source": [
    "# Set the directory\n",
    "directory = '../../../hypo-predict/data/raw_data/helmsley/'\n",
    "\n",
    "meal = pd.read_sas(directory+'ML.xpt', encoding='utf-8')\n",
    "\n",
    "meal['MLDTC'] = pd.to_datetime('1960-01-01') + pd.to_timedelta(meal['MLDTC'], unit='s')\n",
    "\n",
    "selected_meal_helm = meal[['USUBJID', 'MLDTC', 'MLCAT', 'MLDOSE', 'MLDOSU']]\n",
    "selected_meal_helm.columns = ['ID', 'time', 'meal_category', 'dose', 'dose_unit']\n",
    "#selected_meal.to_csv('helm_selected_meal.csv', index=False)\n",
    "selected_meal_helm['ID'] = 'helm_' + selected_meal_helm['ID'].astype(str)"
   ]
  },
  {
   "cell_type": "code",
   "execution_count": 7,
   "metadata": {},
   "outputs": [
    {
     "name": "stderr",
     "output_type": "stream",
     "text": [
      "/tmp/ipykernel_42975/4212591934.py:11: SettingWithCopyWarning: \n",
      "A value is trying to be set on a copy of a slice from a DataFrame.\n",
      "Try using .loc[row_indexer,col_indexer] = value instead\n",
      "\n",
      "See the caveats in the documentation: https://pandas.pydata.org/pandas-docs/stable/user_guide/indexing.html#returning-a-view-versus-a-copy\n",
      "  selected_meal_dexip['ID'] = 'dexip_' + selected_meal_dexip['ID'].astype(str)\n"
     ]
    }
   ],
   "source": [
    "# Set the directory\n",
    "directory = '../../../hypo-predict/data/raw_data/helmsley_dexip/'\n",
    "\n",
    "meal = pd.read_sas(directory+'ML.xpt', encoding='utf-8')\n",
    "\n",
    "meal['MLDTC'] = pd.to_datetime('1960-01-01') + pd.to_timedelta(meal['MLDTC'], unit='s')\n",
    "\n",
    "selected_meal_dexip = meal[['USUBJID', 'MLDTC', 'MLCAT', 'MLDOSE', 'MLDOSU']]\n",
    "selected_meal_dexip.columns = ['ID', 'time', 'meal_category', 'dose', 'dose_unit']\n",
    "#selected_meal.to_csv('helm_selected_meal.csv', index=False)\n",
    "selected_meal_dexip['ID'] = 'dexip_' + selected_meal_dexip['ID'].astype(str)"
   ]
  },
  {
   "cell_type": "code",
   "execution_count": 8,
   "metadata": {},
   "outputs": [],
   "source": [
    "meals = pd.concat([selected_meal_helm, selected_meal_dexip])"
   ]
  },
  {
   "cell_type": "code",
   "execution_count": 9,
   "metadata": {},
   "outputs": [
    {
     "data": {
      "text/html": [
       "<div>\n",
       "<style scoped>\n",
       "    .dataframe tbody tr th:only-of-type {\n",
       "        vertical-align: middle;\n",
       "    }\n",
       "\n",
       "    .dataframe tbody tr th {\n",
       "        vertical-align: top;\n",
       "    }\n",
       "\n",
       "    .dataframe thead th {\n",
       "        text-align: right;\n",
       "    }\n",
       "</style>\n",
       "<table border=\"1\" class=\"dataframe\">\n",
       "  <thead>\n",
       "    <tr style=\"text-align: right;\">\n",
       "      <th></th>\n",
       "      <th>ID</th>\n",
       "      <th>time</th>\n",
       "      <th>meal_category</th>\n",
       "      <th>dose</th>\n",
       "      <th>dose_unit</th>\n",
       "    </tr>\n",
       "  </thead>\n",
       "  <tbody>\n",
       "    <tr>\n",
       "      <th>0</th>\n",
       "      <td>helm_1</td>\n",
       "      <td>2020-03-08 00:00:00</td>\n",
       "      <td>USUAL DAILY CONSUMPTION</td>\n",
       "      <td>3.0</td>\n",
       "      <td></td>\n",
       "    </tr>\n",
       "    <tr>\n",
       "      <th>1</th>\n",
       "      <td>helm_1</td>\n",
       "      <td>2020-03-08 00:00:00</td>\n",
       "      <td>USUAL DAILY CONSUMPTION</td>\n",
       "      <td>2.0</td>\n",
       "      <td></td>\n",
       "    </tr>\n",
       "    <tr>\n",
       "      <th>2</th>\n",
       "      <td>helm_1</td>\n",
       "      <td>2020-05-11 23:12:21</td>\n",
       "      <td>RESCUE CARBS</td>\n",
       "      <td>28.0</td>\n",
       "      <td>g</td>\n",
       "    </tr>\n",
       "    <tr>\n",
       "      <th>3</th>\n",
       "      <td>helm_1</td>\n",
       "      <td>2020-05-12 05:30:58</td>\n",
       "      <td>RESCUE CARBS</td>\n",
       "      <td>19.0</td>\n",
       "      <td>g</td>\n",
       "    </tr>\n",
       "    <tr>\n",
       "      <th>4</th>\n",
       "      <td>helm_1</td>\n",
       "      <td>2020-05-12 07:55:29</td>\n",
       "      <td>RESCUE CARBS</td>\n",
       "      <td>19.0</td>\n",
       "      <td>g</td>\n",
       "    </tr>\n",
       "    <tr>\n",
       "      <th>...</th>\n",
       "      <td>...</td>\n",
       "      <td>...</td>\n",
       "      <td>...</td>\n",
       "      <td>...</td>\n",
       "      <td>...</td>\n",
       "    </tr>\n",
       "    <tr>\n",
       "      <th>6111</th>\n",
       "      <td>dexip_99</td>\n",
       "      <td>2021-10-08 15:53:00</td>\n",
       "      <td>CONSUMED</td>\n",
       "      <td>16.0</td>\n",
       "      <td>g</td>\n",
       "    </tr>\n",
       "    <tr>\n",
       "      <th>6112</th>\n",
       "      <td>dexip_99</td>\n",
       "      <td>2021-10-09 15:51:00</td>\n",
       "      <td>CONSUMED</td>\n",
       "      <td>15.6</td>\n",
       "      <td>g</td>\n",
       "    </tr>\n",
       "    <tr>\n",
       "      <th>6113</th>\n",
       "      <td>dexip_99</td>\n",
       "      <td>2021-10-13 10:02:23</td>\n",
       "      <td>CONSUMED</td>\n",
       "      <td>15.6</td>\n",
       "      <td>g</td>\n",
       "    </tr>\n",
       "    <tr>\n",
       "      <th>6114</th>\n",
       "      <td>dexip_99</td>\n",
       "      <td>2021-10-13 12:57:49</td>\n",
       "      <td>CONSUMED</td>\n",
       "      <td>15.6</td>\n",
       "      <td>g</td>\n",
       "    </tr>\n",
       "    <tr>\n",
       "      <th>6115</th>\n",
       "      <td>dexip_99</td>\n",
       "      <td>2021-10-09 06:59:25</td>\n",
       "      <td>CONSUMED</td>\n",
       "      <td>39.0</td>\n",
       "      <td>g</td>\n",
       "    </tr>\n",
       "  </tbody>\n",
       "</table>\n",
       "<p>68591 rows × 5 columns</p>\n",
       "</div>"
      ],
      "text/plain": [
       "            ID                time            meal_category  dose dose_unit\n",
       "0       helm_1 2020-03-08 00:00:00  USUAL DAILY CONSUMPTION   3.0          \n",
       "1       helm_1 2020-03-08 00:00:00  USUAL DAILY CONSUMPTION   2.0          \n",
       "2       helm_1 2020-05-11 23:12:21             RESCUE CARBS  28.0         g\n",
       "3       helm_1 2020-05-12 05:30:58             RESCUE CARBS  19.0         g\n",
       "4       helm_1 2020-05-12 07:55:29             RESCUE CARBS  19.0         g\n",
       "...        ...                 ...                      ...   ...       ...\n",
       "6111  dexip_99 2021-10-08 15:53:00                 CONSUMED  16.0         g\n",
       "6112  dexip_99 2021-10-09 15:51:00                 CONSUMED  15.6         g\n",
       "6113  dexip_99 2021-10-13 10:02:23                 CONSUMED  15.6         g\n",
       "6114  dexip_99 2021-10-13 12:57:49                 CONSUMED  15.6         g\n",
       "6115  dexip_99 2021-10-09 06:59:25                 CONSUMED  39.0         g\n",
       "\n",
       "[68591 rows x 5 columns]"
      ]
     },
     "execution_count": 9,
     "metadata": {},
     "output_type": "execute_result"
    }
   ],
   "source": [
    "meals"
   ]
  },
  {
   "cell_type": "code",
   "execution_count": 10,
   "metadata": {},
   "outputs": [
    {
     "data": {
      "text/plain": [
       "Index(['bout_id', 'ID', 'start_datetime', 'duration', 'intensity',\n",
       "       'type_of_exercise', 'finish_datetime', 'month', 'day', 'day_of_week',\n",
       "       'time_of_day', 'form_of_exercise', 'time', 'glc', 'start_roc', 'IOB',\n",
       "       'iob_kg', 'cv', 'avg_glucose', 'sd_glucose', 'time_below_3_9',\n",
       "       'time_3_9_to_10', 'time_above_10', 'hbgi', 'glc_post_20', 'hypo',\n",
       "       'exercise', 'glc_change', 'aer', 'ana', 'mix', 'age', 'sex', 'race',\n",
       "       'hba1c', 'bmi', 'years_since_diagnosis', 'insulin_modality',\n",
       "       'hour_of_day', 'light', 'moderate', 'vigorous', 'female', 'iob_bin',\n",
       "       'age_bin', 'years_since_diagnosis_bin', 'bmi_bin', 'hba1c_bin',\n",
       "       'start_roc_bin', 'glc_bin', 'pump', 'mdi', 'closed_loop',\n",
       "       'iob_quadratic', 'start_roc_quadratic', 'cv_quadratic', 'glc_quadratic',\n",
       "       'age_quadratic', 'bmi_quadratic', 'iob_cubed', 'start_roc_cubed',\n",
       "       'cv_cubed', 'glc_cubed', 'age_cubed', 'bmi_cubed'],\n",
       "      dtype='object')"
      ]
     },
     "execution_count": 10,
     "metadata": {},
     "output_type": "execute_result"
    }
   ],
   "source": [
    "df.columns"
   ]
  },
  {
   "cell_type": "code",
   "execution_count": 11,
   "metadata": {},
   "outputs": [],
   "source": [
    "import pandas as pd\n",
    "\n",
    "# Make sure your datetime columns are in datetime format\n",
    "df['start_datetime'] = pd.to_datetime(df['start_datetime'])\n",
    "df['finish_datetime'] = pd.to_datetime(df['finish_datetime'])\n",
    "meals['time'] = pd.to_datetime(meals['time'])\n",
    "\n",
    "# Create the window end time\n",
    "df['window_end'] = df['finish_datetime'] + pd.Timedelta(minutes=20)\n",
    "\n",
    "# Initialize the column\n",
    "df['carbs_during'] = 0\n",
    "\n",
    "# Sort both DataFrames by ID and time for efficient lookups\n",
    "df.sort_values(['ID', 'start_datetime'], inplace=True)\n",
    "meals.sort_values(['ID', 'time'], inplace=True)\n",
    "\n",
    "# Group by ID\n",
    "grouped_df = df.groupby('ID')\n",
    "grouped_meal = meals.groupby('ID')\n",
    "\n",
    "# Check for meals in the window for each group\n",
    "for pid, group in grouped_df:\n",
    "    if pid in grouped_meal.groups:\n",
    "        meals_pid = grouped_meal.get_group(pid)\n",
    "        df_idx = group.index\n",
    "        \n",
    "        for i in df_idx:\n",
    "            start = df.at[i, 'start_datetime']\n",
    "            end = df.at[i, 'window_end']\n",
    "            # Check if any meal happened in the time window\n",
    "            if meals_pid[(meals_pid['time'] >= start) & (meals_pid['time'] <= end)].shape[0] > 0:\n",
    "                df.at[i, 'carbs_during'] = 1\n"
   ]
  },
  {
   "cell_type": "code",
   "execution_count": 12,
   "metadata": {},
   "outputs": [
    {
     "data": {
      "text/plain": [
       "carbs_during\n",
       "0    3515\n",
       "1     159\n",
       "Name: count, dtype: int64"
      ]
     },
     "execution_count": 12,
     "metadata": {},
     "output_type": "execute_result"
    }
   ],
   "source": [
    "df.carbs_during.value_counts()"
   ]
  },
  {
   "cell_type": "code",
   "execution_count": 13,
   "metadata": {},
   "outputs": [
    {
     "data": {
      "text/plain": [
       "bout_id\n",
       "1737    2\n",
       "259     2\n",
       "258     2\n",
       "253     2\n",
       "252     2\n",
       "       ..\n",
       "1104    2\n",
       "1103    2\n",
       "1107    2\n",
       "1101    2\n",
       "831     2\n",
       "Name: count, Length: 1837, dtype: int64"
      ]
     },
     "execution_count": 13,
     "metadata": {},
     "output_type": "execute_result"
    }
   ],
   "source": [
    "df['bout_id'].value_counts()"
   ]
  },
  {
   "cell_type": "code",
   "execution_count": 14,
   "metadata": {},
   "outputs": [],
   "source": [
    "df_dropped = df[df['carbs_during']==0].copy()"
   ]
  },
  {
   "cell_type": "code",
   "execution_count": 15,
   "metadata": {},
   "outputs": [],
   "source": [
    "# Filter to only keep bout_ids that appear exactly twice\n",
    "valid_bouts = df_dropped['bout_id'].value_counts()\n",
    "valid_bouts = valid_bouts[valid_bouts == 2].index\n",
    "\n",
    "# Keep only those rows\n",
    "df_filtered = df_dropped[df_dropped['bout_id'].isin(valid_bouts)].copy()\n"
   ]
  },
  {
   "cell_type": "code",
   "execution_count": 16,
   "metadata": {},
   "outputs": [
    {
     "data": {
      "text/plain": [
       "carbs_during\n",
       "0    3356\n",
       "Name: count, dtype: int64"
      ]
     },
     "execution_count": 16,
     "metadata": {},
     "output_type": "execute_result"
    }
   ],
   "source": [
    "df_filtered.carbs_during.value_counts()"
   ]
  },
  {
   "cell_type": "code",
   "execution_count": 17,
   "metadata": {},
   "outputs": [
    {
     "data": {
      "text/plain": [
       "1678.0"
      ]
     },
     "execution_count": 17,
     "metadata": {},
     "output_type": "execute_result"
    }
   ],
   "source": [
    "3356/2"
   ]
  },
  {
   "cell_type": "code",
   "execution_count": 18,
   "metadata": {},
   "outputs": [
    {
     "data": {
      "text/plain": [
       "bout_id\n",
       "1738    2\n",
       "31      2\n",
       "233     2\n",
       "232     2\n",
       "230     2\n",
       "       ..\n",
       "1215    1\n",
       "1221    1\n",
       "1223    1\n",
       "673     1\n",
       "831     1\n",
       "Name: count, Length: 1837, dtype: int64"
      ]
     },
     "execution_count": 18,
     "metadata": {},
     "output_type": "execute_result"
    }
   ],
   "source": [
    "df_dropped['bout_id'].value_counts()"
   ]
  },
  {
   "cell_type": "code",
   "execution_count": 19,
   "metadata": {},
   "outputs": [],
   "source": [
    "df.to_csv(\"../../data/tidy/paired_data/final_data_for_analysis_food_incl.csv\")\n",
    "\n",
    "df_filtered.to_csv(\"../../data/tidy/paired_data/final_data_for_analysis_food_excl.csv\")"
   ]
  },
  {
   "cell_type": "code",
   "execution_count": 20,
   "metadata": {},
   "outputs": [
    {
     "data": {
      "text/plain": [
       "516"
      ]
     },
     "execution_count": 20,
     "metadata": {},
     "output_type": "execute_result"
    }
   ],
   "source": [
    "df_filtered.ID.nunique()"
   ]
  },
  {
   "cell_type": "code",
   "execution_count": 23,
   "metadata": {},
   "outputs": [
    {
     "data": {
      "text/plain": [
       "1837.0"
      ]
     },
     "execution_count": 23,
     "metadata": {},
     "output_type": "execute_result"
    }
   ],
   "source": [
    "df.shape[0]/2"
   ]
  },
  {
   "cell_type": "code",
   "execution_count": null,
   "metadata": {},
   "outputs": [],
   "source": []
  }
 ],
 "metadata": {
  "kernelspec": {
   "display_name": ".venv",
   "language": "python",
   "name": "python3"
  },
  "language_info": {
   "codemirror_mode": {
    "name": "ipython",
    "version": 3
   },
   "file_extension": ".py",
   "mimetype": "text/x-python",
   "name": "python",
   "nbconvert_exporter": "python",
   "pygments_lexer": "ipython3",
   "version": "3.10.12"
  }
 },
 "nbformat": 4,
 "nbformat_minor": 2
}
