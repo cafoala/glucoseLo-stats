{
 "cells": [
  {
   "cell_type": "code",
   "execution_count": 2,
   "metadata": {},
   "outputs": [],
   "source": [
    "import pandas as pd"
   ]
  },
  {
   "cell_type": "code",
   "execution_count": 3,
   "metadata": {},
   "outputs": [],
   "source": [
    "helm_ins = pd.read_csv('../../data/raw/insulin_meal/helm_insulin_bolus.csv')\n",
    "helm_ins['ID'] = 'helm_'+helm_ins['ID'].astype(str)\n",
    "dexip_ins = pd.read_csv('../../data/raw/insulin_meal/dexip_insulin_bolus.csv')\n",
    "dexip_ins['ID'] = 'dexip_'+dexip_ins['ID'].astype(str)"
   ]
  },
  {
   "cell_type": "code",
   "execution_count": 4,
   "metadata": {},
   "outputs": [],
   "source": [
    "ins = pd.concat([helm_ins, dexip_ins], ignore_index=True)\n",
    "ins['time'] = pd.to_datetime(ins['time'])\n",
    "\n",
    "ins.sort_values(by='time', inplace=True)"
   ]
  },
  {
   "cell_type": "code",
   "execution_count": 5,
   "metadata": {},
   "outputs": [],
   "source": [
    "# Calculate the description (mean, std, min, max) of the time difference between insulin bolus for each patient\n",
    "ins['diff'] = ins['time'].diff()\n",
    "summary = ins.groupby('ID')['diff'].describe()"
   ]
  },
  {
   "cell_type": "code",
   "execution_count": 6,
   "metadata": {},
   "outputs": [],
   "source": [
    "summary.reset_index(inplace=True)"
   ]
  },
  {
   "cell_type": "code",
   "execution_count": 7,
   "metadata": {},
   "outputs": [
    {
     "data": {
      "text/html": [
       "<div>\n",
       "<style scoped>\n",
       "    .dataframe tbody tr th:only-of-type {\n",
       "        vertical-align: middle;\n",
       "    }\n",
       "\n",
       "    .dataframe tbody tr th {\n",
       "        vertical-align: top;\n",
       "    }\n",
       "\n",
       "    .dataframe thead th {\n",
       "        text-align: right;\n",
       "    }\n",
       "</style>\n",
       "<table border=\"1\" class=\"dataframe\">\n",
       "  <thead>\n",
       "    <tr style=\"text-align: right;\">\n",
       "      <th></th>\n",
       "      <th>ID</th>\n",
       "      <th>count</th>\n",
       "      <th>mean</th>\n",
       "      <th>std</th>\n",
       "      <th>min</th>\n",
       "      <th>25%</th>\n",
       "      <th>50%</th>\n",
       "      <th>75%</th>\n",
       "      <th>max</th>\n",
       "    </tr>\n",
       "  </thead>\n",
       "  <tbody>\n",
       "    <tr>\n",
       "      <th>466</th>\n",
       "      <td>helm_1625</td>\n",
       "      <td>69</td>\n",
       "      <td>0 days 00:01:56.695652173</td>\n",
       "      <td>0 days 00:01:24.863091185</td>\n",
       "      <td>0 days 00:00:00</td>\n",
       "      <td>0 days 00:00:39</td>\n",
       "      <td>0 days 00:01:46</td>\n",
       "      <td>0 days 00:03:03</td>\n",
       "      <td>0 days 00:05:12</td>\n",
       "    </tr>\n",
       "    <tr>\n",
       "      <th>352</th>\n",
       "      <td>helm_1287</td>\n",
       "      <td>1</td>\n",
       "      <td>0 days 00:05:31</td>\n",
       "      <td>NaT</td>\n",
       "      <td>0 days 00:05:31</td>\n",
       "      <td>0 days 00:05:31</td>\n",
       "      <td>0 days 00:05:31</td>\n",
       "      <td>0 days 00:05:31</td>\n",
       "      <td>0 days 00:05:31</td>\n",
       "    </tr>\n",
       "    <tr>\n",
       "      <th>432</th>\n",
       "      <td>helm_1501</td>\n",
       "      <td>57</td>\n",
       "      <td>0 days 00:02:01.982456140</td>\n",
       "      <td>0 days 00:01:49.060188367</td>\n",
       "      <td>0 days 00:00:07</td>\n",
       "      <td>0 days 00:00:41</td>\n",
       "      <td>0 days 00:01:46</td>\n",
       "      <td>0 days 00:03:06</td>\n",
       "      <td>0 days 00:09:57</td>\n",
       "    </tr>\n",
       "    <tr>\n",
       "      <th>274</th>\n",
       "      <td>helm_1039</td>\n",
       "      <td>5</td>\n",
       "      <td>0 days 00:05:39.800000</td>\n",
       "      <td>0 days 00:04:08.751281403</td>\n",
       "      <td>0 days 00:01:10</td>\n",
       "      <td>0 days 00:01:29</td>\n",
       "      <td>0 days 00:07:12</td>\n",
       "      <td>0 days 00:07:58</td>\n",
       "      <td>0 days 00:10:30</td>\n",
       "    </tr>\n",
       "    <tr>\n",
       "      <th>696</th>\n",
       "      <td>helm_811</td>\n",
       "      <td>77</td>\n",
       "      <td>0 days 00:02:01.753246753</td>\n",
       "      <td>0 days 00:02:09.605591562</td>\n",
       "      <td>0 days 00:00:01</td>\n",
       "      <td>0 days 00:00:40</td>\n",
       "      <td>0 days 00:01:35</td>\n",
       "      <td>0 days 00:02:52</td>\n",
       "      <td>0 days 00:12:30</td>\n",
       "    </tr>\n",
       "    <tr>\n",
       "      <th>...</th>\n",
       "      <td>...</td>\n",
       "      <td>...</td>\n",
       "      <td>...</td>\n",
       "      <td>...</td>\n",
       "      <td>...</td>\n",
       "      <td>...</td>\n",
       "      <td>...</td>\n",
       "      <td>...</td>\n",
       "      <td>...</td>\n",
       "    </tr>\n",
       "    <tr>\n",
       "      <th>47</th>\n",
       "      <td>dexip_200</td>\n",
       "      <td>51</td>\n",
       "      <td>0 days 02:10:56.823529411</td>\n",
       "      <td>0 days 03:22:20.522805391</td>\n",
       "      <td>0 days 00:00:11</td>\n",
       "      <td>0 days 00:09:29</td>\n",
       "      <td>0 days 01:02:05</td>\n",
       "      <td>0 days 02:42:28</td>\n",
       "      <td>0 days 20:25:49</td>\n",
       "    </tr>\n",
       "    <tr>\n",
       "      <th>143</th>\n",
       "      <td>dexip_379</td>\n",
       "      <td>57</td>\n",
       "      <td>0 days 02:24:56.157894736</td>\n",
       "      <td>0 days 05:04:08.514049867</td>\n",
       "      <td>0 days 00:00:11</td>\n",
       "      <td>0 days 00:11:20</td>\n",
       "      <td>0 days 00:45:40</td>\n",
       "      <td>0 days 02:27:24</td>\n",
       "      <td>1 days 08:38:43</td>\n",
       "    </tr>\n",
       "    <tr>\n",
       "      <th>200</th>\n",
       "      <td>dexip_483</td>\n",
       "      <td>109</td>\n",
       "      <td>0 days 02:12:53.229357798</td>\n",
       "      <td>0 days 06:04:00.484770953</td>\n",
       "      <td>0 days 00:02:00</td>\n",
       "      <td>0 days 00:29:10</td>\n",
       "      <td>0 days 01:04:57</td>\n",
       "      <td>0 days 01:45:01</td>\n",
       "      <td>2 days 11:02:57</td>\n",
       "    </tr>\n",
       "    <tr>\n",
       "      <th>234</th>\n",
       "      <td>dexip_63</td>\n",
       "      <td>62</td>\n",
       "      <td>0 days 05:25:03.435483870</td>\n",
       "      <td>0 days 19:37:14.875966531</td>\n",
       "      <td>0 days 00:00:39</td>\n",
       "      <td>0 days 00:36:06.500000</td>\n",
       "      <td>0 days 02:38:22.500000</td>\n",
       "      <td>0 days 05:18:55.750000</td>\n",
       "      <td>6 days 12:10:31</td>\n",
       "    </tr>\n",
       "    <tr>\n",
       "      <th>255</th>\n",
       "      <td>dexip_92</td>\n",
       "      <td>83</td>\n",
       "      <td>0 days 08:38:18.228915662</td>\n",
       "      <td>2 days 05:20:48.856927550</td>\n",
       "      <td>0 days 00:00:32</td>\n",
       "      <td>0 days 00:54:58</td>\n",
       "      <td>0 days 01:33:15</td>\n",
       "      <td>0 days 03:24:00.500000</td>\n",
       "      <td>20 days 07:49:55</td>\n",
       "    </tr>\n",
       "  </tbody>\n",
       "</table>\n",
       "<p>752 rows × 9 columns</p>\n",
       "</div>"
      ],
      "text/plain": [
       "            ID count                       mean                        std  \\\n",
       "466  helm_1625    69  0 days 00:01:56.695652173  0 days 00:01:24.863091185   \n",
       "352  helm_1287     1            0 days 00:05:31                        NaT   \n",
       "432  helm_1501    57  0 days 00:02:01.982456140  0 days 00:01:49.060188367   \n",
       "274  helm_1039     5     0 days 00:05:39.800000  0 days 00:04:08.751281403   \n",
       "696   helm_811    77  0 days 00:02:01.753246753  0 days 00:02:09.605591562   \n",
       "..         ...   ...                        ...                        ...   \n",
       "47   dexip_200    51  0 days 02:10:56.823529411  0 days 03:22:20.522805391   \n",
       "143  dexip_379    57  0 days 02:24:56.157894736  0 days 05:04:08.514049867   \n",
       "200  dexip_483   109  0 days 02:12:53.229357798  0 days 06:04:00.484770953   \n",
       "234   dexip_63    62  0 days 05:25:03.435483870  0 days 19:37:14.875966531   \n",
       "255   dexip_92    83  0 days 08:38:18.228915662  2 days 05:20:48.856927550   \n",
       "\n",
       "                 min                     25%                     50%  \\\n",
       "466  0 days 00:00:00         0 days 00:00:39         0 days 00:01:46   \n",
       "352  0 days 00:05:31         0 days 00:05:31         0 days 00:05:31   \n",
       "432  0 days 00:00:07         0 days 00:00:41         0 days 00:01:46   \n",
       "274  0 days 00:01:10         0 days 00:01:29         0 days 00:07:12   \n",
       "696  0 days 00:00:01         0 days 00:00:40         0 days 00:01:35   \n",
       "..               ...                     ...                     ...   \n",
       "47   0 days 00:00:11         0 days 00:09:29         0 days 01:02:05   \n",
       "143  0 days 00:00:11         0 days 00:11:20         0 days 00:45:40   \n",
       "200  0 days 00:02:00         0 days 00:29:10         0 days 01:04:57   \n",
       "234  0 days 00:00:39  0 days 00:36:06.500000  0 days 02:38:22.500000   \n",
       "255  0 days 00:00:32         0 days 00:54:58         0 days 01:33:15   \n",
       "\n",
       "                        75%               max  \n",
       "466         0 days 00:03:03   0 days 00:05:12  \n",
       "352         0 days 00:05:31   0 days 00:05:31  \n",
       "432         0 days 00:03:06   0 days 00:09:57  \n",
       "274         0 days 00:07:58   0 days 00:10:30  \n",
       "696         0 days 00:02:52   0 days 00:12:30  \n",
       "..                      ...               ...  \n",
       "47          0 days 02:42:28   0 days 20:25:49  \n",
       "143         0 days 02:27:24   1 days 08:38:43  \n",
       "200         0 days 01:45:01   2 days 11:02:57  \n",
       "234  0 days 05:18:55.750000   6 days 12:10:31  \n",
       "255  0 days 03:24:00.500000  20 days 07:49:55  \n",
       "\n",
       "[752 rows x 9 columns]"
      ]
     },
     "execution_count": 7,
     "metadata": {},
     "output_type": "execute_result"
    }
   ],
   "source": [
    "summary.sort_values(by='max')"
   ]
  },
  {
   "cell_type": "markdown",
   "metadata": {},
   "source": [
    "#### Helm - 493 participants\n",
    "30 participants have <60 bolus readings\n",
    "65 participants have <90 bolus readings\n",
    "\n",
    "#### Dexip - 259\n",
    "14 <20 bolus readings\n",
    "25 <30 bolus "
   ]
  },
  {
   "cell_type": "code",
   "execution_count": 8,
   "metadata": {},
   "outputs": [
    {
     "data": {
      "text/plain": [
       "752"
      ]
     },
     "execution_count": 8,
     "metadata": {},
     "output_type": "execute_result"
    }
   ],
   "source": [
    "493+259"
   ]
  },
  {
   "cell_type": "code",
   "execution_count": 9,
   "metadata": {},
   "outputs": [
    {
     "data": {
      "text/plain": [
       "11.96808510638298"
      ]
     },
     "execution_count": 9,
     "metadata": {},
     "output_type": "execute_result"
    }
   ],
   "source": [
    "100*(25+65)/(493+259)"
   ]
  },
  {
   "cell_type": "code",
   "execution_count": 10,
   "metadata": {},
   "outputs": [
    {
     "data": {
      "text/plain": [
       "(493, 259)"
      ]
     },
     "execution_count": 10,
     "metadata": {},
     "output_type": "execute_result"
    }
   ],
   "source": [
    "helm_ins.ID.nunique(), dexip_ins.ID.nunique()"
   ]
  },
  {
   "cell_type": "code",
   "execution_count": 11,
   "metadata": {},
   "outputs": [
    {
     "data": {
      "text/html": [
       "<div>\n",
       "<style scoped>\n",
       "    .dataframe tbody tr th:only-of-type {\n",
       "        vertical-align: middle;\n",
       "    }\n",
       "\n",
       "    .dataframe tbody tr th {\n",
       "        vertical-align: top;\n",
       "    }\n",
       "\n",
       "    .dataframe thead th {\n",
       "        text-align: right;\n",
       "    }\n",
       "</style>\n",
       "<table border=\"1\" class=\"dataframe\">\n",
       "  <thead>\n",
       "    <tr style=\"text-align: right;\">\n",
       "      <th></th>\n",
       "      <th>ID</th>\n",
       "      <th>count</th>\n",
       "      <th>mean</th>\n",
       "      <th>std</th>\n",
       "      <th>min</th>\n",
       "      <th>25%</th>\n",
       "      <th>50%</th>\n",
       "      <th>75%</th>\n",
       "      <th>max</th>\n",
       "    </tr>\n",
       "  </thead>\n",
       "  <tbody>\n",
       "    <tr>\n",
       "      <th>34</th>\n",
       "      <td>dexip_171</td>\n",
       "      <td>31</td>\n",
       "      <td>0 days 02:42:47.548387096</td>\n",
       "      <td>0 days 03:58:30.982449011</td>\n",
       "      <td>0 days 00:00:49</td>\n",
       "      <td>0 days 00:20:50.500000</td>\n",
       "      <td>0 days 00:47:44</td>\n",
       "      <td>0 days 02:54:31.500000</td>\n",
       "      <td>0 days 15:12:15</td>\n",
       "    </tr>\n",
       "    <tr>\n",
       "      <th>47</th>\n",
       "      <td>dexip_200</td>\n",
       "      <td>51</td>\n",
       "      <td>0 days 02:10:56.823529411</td>\n",
       "      <td>0 days 03:22:20.522805391</td>\n",
       "      <td>0 days 00:00:11</td>\n",
       "      <td>0 days 00:09:29</td>\n",
       "      <td>0 days 01:02:05</td>\n",
       "      <td>0 days 02:42:28</td>\n",
       "      <td>0 days 20:25:49</td>\n",
       "    </tr>\n",
       "    <tr>\n",
       "      <th>143</th>\n",
       "      <td>dexip_379</td>\n",
       "      <td>57</td>\n",
       "      <td>0 days 02:24:56.157894736</td>\n",
       "      <td>0 days 05:04:08.514049867</td>\n",
       "      <td>0 days 00:00:11</td>\n",
       "      <td>0 days 00:11:20</td>\n",
       "      <td>0 days 00:45:40</td>\n",
       "      <td>0 days 02:27:24</td>\n",
       "      <td>1 days 08:38:43</td>\n",
       "    </tr>\n",
       "    <tr>\n",
       "      <th>200</th>\n",
       "      <td>dexip_483</td>\n",
       "      <td>109</td>\n",
       "      <td>0 days 02:12:53.229357798</td>\n",
       "      <td>0 days 06:04:00.484770953</td>\n",
       "      <td>0 days 00:02:00</td>\n",
       "      <td>0 days 00:29:10</td>\n",
       "      <td>0 days 01:04:57</td>\n",
       "      <td>0 days 01:45:01</td>\n",
       "      <td>2 days 11:02:57</td>\n",
       "    </tr>\n",
       "    <tr>\n",
       "      <th>210</th>\n",
       "      <td>dexip_504</td>\n",
       "      <td>51</td>\n",
       "      <td>0 days 02:34:23.411764705</td>\n",
       "      <td>0 days 03:53:26.803814113</td>\n",
       "      <td>0 days 00:01:16</td>\n",
       "      <td>0 days 00:22:56</td>\n",
       "      <td>0 days 01:02:34</td>\n",
       "      <td>0 days 02:24:28</td>\n",
       "      <td>0 days 17:41:38</td>\n",
       "    </tr>\n",
       "    <tr>\n",
       "      <th>234</th>\n",
       "      <td>dexip_63</td>\n",
       "      <td>62</td>\n",
       "      <td>0 days 05:25:03.435483870</td>\n",
       "      <td>0 days 19:37:14.875966531</td>\n",
       "      <td>0 days 00:00:39</td>\n",
       "      <td>0 days 00:36:06.500000</td>\n",
       "      <td>0 days 02:38:22.500000</td>\n",
       "      <td>0 days 05:18:55.750000</td>\n",
       "      <td>6 days 12:10:31</td>\n",
       "    </tr>\n",
       "    <tr>\n",
       "      <th>243</th>\n",
       "      <td>dexip_73</td>\n",
       "      <td>95</td>\n",
       "      <td>0 days 02:04:57.726315789</td>\n",
       "      <td>0 days 03:22:08.978962343</td>\n",
       "      <td>0 days 00:03:01</td>\n",
       "      <td>0 days 00:37:09.500000</td>\n",
       "      <td>0 days 01:04:58</td>\n",
       "      <td>0 days 01:43:51.500000</td>\n",
       "      <td>0 days 16:31:06</td>\n",
       "    </tr>\n",
       "    <tr>\n",
       "      <th>255</th>\n",
       "      <td>dexip_92</td>\n",
       "      <td>83</td>\n",
       "      <td>0 days 08:38:18.228915662</td>\n",
       "      <td>2 days 05:20:48.856927550</td>\n",
       "      <td>0 days 00:00:32</td>\n",
       "      <td>0 days 00:54:58</td>\n",
       "      <td>0 days 01:33:15</td>\n",
       "      <td>0 days 03:24:00.500000</td>\n",
       "      <td>20 days 07:49:55</td>\n",
       "    </tr>\n",
       "    <tr>\n",
       "      <th>666</th>\n",
       "      <td>helm_707</td>\n",
       "      <td>261</td>\n",
       "      <td>0 days 01:02:04.984674329</td>\n",
       "      <td>0 days 01:39:35.437187075</td>\n",
       "      <td>0 days 00:00:04</td>\n",
       "      <td>0 days 00:12:13</td>\n",
       "      <td>0 days 00:30:27</td>\n",
       "      <td>0 days 01:06:49</td>\n",
       "      <td>0 days 15:38:40</td>\n",
       "    </tr>\n",
       "  </tbody>\n",
       "</table>\n",
       "</div>"
      ],
      "text/plain": [
       "            ID count                       mean                        std  \\\n",
       "34   dexip_171    31  0 days 02:42:47.548387096  0 days 03:58:30.982449011   \n",
       "47   dexip_200    51  0 days 02:10:56.823529411  0 days 03:22:20.522805391   \n",
       "143  dexip_379    57  0 days 02:24:56.157894736  0 days 05:04:08.514049867   \n",
       "200  dexip_483   109  0 days 02:12:53.229357798  0 days 06:04:00.484770953   \n",
       "210  dexip_504    51  0 days 02:34:23.411764705  0 days 03:53:26.803814113   \n",
       "234   dexip_63    62  0 days 05:25:03.435483870  0 days 19:37:14.875966531   \n",
       "243   dexip_73    95  0 days 02:04:57.726315789  0 days 03:22:08.978962343   \n",
       "255   dexip_92    83  0 days 08:38:18.228915662  2 days 05:20:48.856927550   \n",
       "666   helm_707   261  0 days 01:02:04.984674329  0 days 01:39:35.437187075   \n",
       "\n",
       "                 min                     25%                     50%  \\\n",
       "34   0 days 00:00:49  0 days 00:20:50.500000         0 days 00:47:44   \n",
       "47   0 days 00:00:11         0 days 00:09:29         0 days 01:02:05   \n",
       "143  0 days 00:00:11         0 days 00:11:20         0 days 00:45:40   \n",
       "200  0 days 00:02:00         0 days 00:29:10         0 days 01:04:57   \n",
       "210  0 days 00:01:16         0 days 00:22:56         0 days 01:02:34   \n",
       "234  0 days 00:00:39  0 days 00:36:06.500000  0 days 02:38:22.500000   \n",
       "243  0 days 00:03:01  0 days 00:37:09.500000         0 days 01:04:58   \n",
       "255  0 days 00:00:32         0 days 00:54:58         0 days 01:33:15   \n",
       "666  0 days 00:00:04         0 days 00:12:13         0 days 00:30:27   \n",
       "\n",
       "                        75%               max  \n",
       "34   0 days 02:54:31.500000   0 days 15:12:15  \n",
       "47          0 days 02:42:28   0 days 20:25:49  \n",
       "143         0 days 02:27:24   1 days 08:38:43  \n",
       "200         0 days 01:45:01   2 days 11:02:57  \n",
       "210         0 days 02:24:28   0 days 17:41:38  \n",
       "234  0 days 05:18:55.750000   6 days 12:10:31  \n",
       "243  0 days 01:43:51.500000   0 days 16:31:06  \n",
       "255  0 days 03:24:00.500000  20 days 07:49:55  \n",
       "666         0 days 01:06:49   0 days 15:38:40  "
      ]
     },
     "execution_count": 11,
     "metadata": {},
     "output_type": "execute_result"
    }
   ],
   "source": [
    "summary[summary['max']>pd.Timedelta('15 hours')]"
   ]
  },
  {
   "cell_type": "code",
   "execution_count": 29,
   "metadata": {},
   "outputs": [],
   "source": [
    "dexip_ids = summary[(summary['count']<20)&(summary['ID'].str.startswith('dexip'))]['ID'].values"
   ]
  },
  {
   "cell_type": "code",
   "execution_count": 30,
   "metadata": {},
   "outputs": [],
   "source": [
    "helm_ids = summary[(summary['count']<60)&(summary['ID'].str.startswith('helm'))]['ID'].values"
   ]
  },
  {
   "cell_type": "code",
   "execution_count": 31,
   "metadata": {},
   "outputs": [],
   "source": [
    "few_readings_ids = list(dexip_ids) + list(helm_ids)"
   ]
  },
  {
   "cell_type": "code",
   "execution_count": 15,
   "metadata": {},
   "outputs": [
    {
     "data": {
      "text/plain": [
       "<Axes: >"
      ]
     },
     "execution_count": 15,
     "metadata": {},
     "output_type": "execute_result"
    },
    {
     "data": {
      "image/png": "[encoded data removed]",
      "text/plain": [
       "<Figure size 432x288 with 1 Axes>"
      ]
     },
     "metadata": {
      "needs_background": "light"
     },
     "output_type": "display_data"
    }
   ],
   "source": [
    "summary['count'].hist(bins=20)"
   ]
  },
  {
   "cell_type": "code",
   "execution_count": 32,
   "metadata": {},
   "outputs": [],
   "source": [
    "df = pd.read_csv('../../data/tidy/paired_data/final_data_for_analysis_iob_check.csv')"
   ]
  },
  {
   "cell_type": "code",
   "execution_count": 17,
   "metadata": {},
   "outputs": [],
   "source": [
    "df_insulin_mod = df[['ID', 'insulin_modality']].drop_duplicates()"
   ]
  },
  {
   "cell_type": "code",
   "execution_count": 18,
   "metadata": {},
   "outputs": [
    {
     "data": {
      "text/html": [
       "<div>\n",
       "<style scoped>\n",
       "    .dataframe tbody tr th:only-of-type {\n",
       "        vertical-align: middle;\n",
       "    }\n",
       "\n",
       "    .dataframe tbody tr th {\n",
       "        vertical-align: top;\n",
       "    }\n",
       "\n",
       "    .dataframe thead th {\n",
       "        text-align: right;\n",
       "    }\n",
       "</style>\n",
       "<table border=\"1\" class=\"dataframe\">\n",
       "  <thead>\n",
       "    <tr style=\"text-align: right;\">\n",
       "      <th></th>\n",
       "      <th>ID</th>\n",
       "      <th>insulin_modality</th>\n",
       "    </tr>\n",
       "  </thead>\n",
       "  <tbody>\n",
       "    <tr>\n",
       "      <th>0</th>\n",
       "      <td>helm_1</td>\n",
       "      <td>mdi</td>\n",
       "    </tr>\n",
       "    <tr>\n",
       "      <th>3</th>\n",
       "      <td>helm_4</td>\n",
       "      <td>mdi</td>\n",
       "    </tr>\n",
       "    <tr>\n",
       "      <th>8</th>\n",
       "      <td>helm_14</td>\n",
       "      <td>closed_loop</td>\n",
       "    </tr>\n",
       "    <tr>\n",
       "      <th>16</th>\n",
       "      <td>helm_18</td>\n",
       "      <td>closed_loop</td>\n",
       "    </tr>\n",
       "    <tr>\n",
       "      <th>18</th>\n",
       "      <td>helm_24</td>\n",
       "      <td>pump</td>\n",
       "    </tr>\n",
       "    <tr>\n",
       "      <th>...</th>\n",
       "      <td>...</td>\n",
       "      <td>...</td>\n",
       "    </tr>\n",
       "    <tr>\n",
       "      <th>1828</th>\n",
       "      <td>dexip_526</td>\n",
       "      <td>pump</td>\n",
       "    </tr>\n",
       "    <tr>\n",
       "      <th>1831</th>\n",
       "      <td>dexip_531</td>\n",
       "      <td>closed_loop</td>\n",
       "    </tr>\n",
       "    <tr>\n",
       "      <th>1832</th>\n",
       "      <td>dexip_534</td>\n",
       "      <td>closed_loop</td>\n",
       "    </tr>\n",
       "    <tr>\n",
       "      <th>1833</th>\n",
       "      <td>dexip_535</td>\n",
       "      <td>closed_loop</td>\n",
       "    </tr>\n",
       "    <tr>\n",
       "      <th>1835</th>\n",
       "      <td>dexip_540</td>\n",
       "      <td>pump</td>\n",
       "    </tr>\n",
       "  </tbody>\n",
       "</table>\n",
       "<p>531 rows × 2 columns</p>\n",
       "</div>"
      ],
      "text/plain": [
       "             ID insulin_modality\n",
       "0        helm_1              mdi\n",
       "3        helm_4              mdi\n",
       "8       helm_14      closed_loop\n",
       "16      helm_18      closed_loop\n",
       "18      helm_24             pump\n",
       "...         ...              ...\n",
       "1828  dexip_526             pump\n",
       "1831  dexip_531      closed_loop\n",
       "1832  dexip_534      closed_loop\n",
       "1833  dexip_535      closed_loop\n",
       "1835  dexip_540             pump\n",
       "\n",
       "[531 rows x 2 columns]"
      ]
     },
     "execution_count": 18,
     "metadata": {},
     "output_type": "execute_result"
    }
   ],
   "source": [
    "df_insulin_mod"
   ]
  },
  {
   "cell_type": "code",
   "execution_count": 19,
   "metadata": {},
   "outputs": [
    {
     "data": {
      "text/html": [
       "<div>\n",
       "<style scoped>\n",
       "    .dataframe tbody tr th:only-of-type {\n",
       "        vertical-align: middle;\n",
       "    }\n",
       "\n",
       "    .dataframe tbody tr th {\n",
       "        vertical-align: top;\n",
       "    }\n",
       "\n",
       "    .dataframe thead th {\n",
       "        text-align: right;\n",
       "    }\n",
       "</style>\n",
       "<table border=\"1\" class=\"dataframe\">\n",
       "  <thead>\n",
       "    <tr style=\"text-align: right;\">\n",
       "      <th></th>\n",
       "      <th>ID</th>\n",
       "      <th>insulin_modality</th>\n",
       "    </tr>\n",
       "  </thead>\n",
       "  <tbody>\n",
       "  </tbody>\n",
       "</table>\n",
       "</div>"
      ],
      "text/plain": [
       "Empty DataFrame\n",
       "Columns: [ID, insulin_modality]\n",
       "Index: []"
      ]
     },
     "execution_count": 19,
     "metadata": {},
     "output_type": "execute_result"
    }
   ],
   "source": [
    "df_insulin_mod[df_insulin_mod['ID']=='dexip_281']"
   ]
  },
  {
   "cell_type": "code",
   "execution_count": 33,
   "metadata": {},
   "outputs": [],
   "source": [
    "df_insulin_mod_fewer = df_insulin_mod[df_insulin_mod['ID'].isin(few_readings_ids)]"
   ]
  },
  {
   "cell_type": "code",
   "execution_count": 21,
   "metadata": {},
   "outputs": [
    {
     "data": {
      "text/plain": [
       "0.09023941068139964"
      ]
     },
     "execution_count": 21,
     "metadata": {},
     "output_type": "execute_result"
    }
   ],
   "source": [
    "49/543"
   ]
  },
  {
   "cell_type": "code",
   "execution_count": 22,
   "metadata": {},
   "outputs": [
    {
     "data": {
      "text/plain": [
       "531"
      ]
     },
     "execution_count": 22,
     "metadata": {},
     "output_type": "execute_result"
    }
   ],
   "source": [
    "df['ID'].nunique()"
   ]
  },
  {
   "cell_type": "code",
   "execution_count": 23,
   "metadata": {},
   "outputs": [
    {
     "data": {
      "text/plain": [
       "(48, 2)"
      ]
     },
     "execution_count": 23,
     "metadata": {},
     "output_type": "execute_result"
    }
   ],
   "source": [
    "df_insulin_mod_fewer.shape"
   ]
  },
  {
   "cell_type": "code",
   "execution_count": 34,
   "metadata": {},
   "outputs": [
    {
     "data": {
      "text/plain": [
       "insulin_modality\n",
       "pump           10\n",
       "mdi             7\n",
       "closed_loop     3\n",
       "Name: count, dtype: int64"
      ]
     },
     "execution_count": 34,
     "metadata": {},
     "output_type": "execute_result"
    }
   ],
   "source": [
    "df_insulin_mod_fewer.insulin_modality.value_counts()"
   ]
  },
  {
   "cell_type": "code",
   "execution_count": 25,
   "metadata": {},
   "outputs": [
    {
     "data": {
      "text/plain": [
       "array(['dexip_133', 'dexip_140', 'dexip_154', 'dexip_167', 'dexip_194',\n",
       "       'dexip_197', 'dexip_209', 'dexip_213', 'dexip_237', 'dexip_255',\n",
       "       'dexip_264', 'dexip_281', 'dexip_328', 'dexip_332', 'dexip_35',\n",
       "       'dexip_354', 'dexip_387', 'dexip_394', 'dexip_398', 'dexip_40',\n",
       "       'dexip_452', 'dexip_478', 'dexip_525', 'dexip_75', 'dexip_86'],\n",
       "      dtype=object)"
      ]
     },
     "execution_count": 25,
     "metadata": {},
     "output_type": "execute_result"
    }
   ],
   "source": [
    "dexip_ids"
   ]
  },
  {
   "cell_type": "markdown",
   "metadata": {},
   "source": [
    "#### Multicolinearity"
   ]
  },
  {
   "cell_type": "code",
   "execution_count": 26,
   "metadata": {},
   "outputs": [
    {
     "data": {
      "text/plain": [
       "0       0.000000\n",
       "1       0.000000\n",
       "2       0.018204\n",
       "3       0.023475\n",
       "4       0.000000\n",
       "          ...   \n",
       "3669    0.002750\n",
       "3670    0.057512\n",
       "3671    0.024557\n",
       "3672    0.000000\n",
       "3673    0.000000\n",
       "Name: iob_kg, Length: 3674, dtype: float64"
      ]
     },
     "execution_count": 26,
     "metadata": {},
     "output_type": "execute_result"
    }
   ],
   "source": [
    "df['iob_kg']"
   ]
  },
  {
   "cell_type": "code",
   "execution_count": 27,
   "metadata": {},
   "outputs": [
    {
     "data": {
      "text/html": [
       "<div>\n",
       "<style scoped>\n",
       "    .dataframe tbody tr th:only-of-type {\n",
       "        vertical-align: middle;\n",
       "    }\n",
       "\n",
       "    .dataframe tbody tr th {\n",
       "        vertical-align: top;\n",
       "    }\n",
       "\n",
       "    .dataframe thead th {\n",
       "        text-align: right;\n",
       "    }\n",
       "</style>\n",
       "<table border=\"1\" class=\"dataframe\">\n",
       "  <thead>\n",
       "    <tr style=\"text-align: right;\">\n",
       "      <th></th>\n",
       "      <th>iob_kg</th>\n",
       "      <th>start_roc</th>\n",
       "      <th>glc_change</th>\n",
       "    </tr>\n",
       "  </thead>\n",
       "  <tbody>\n",
       "    <tr>\n",
       "      <th>iob_kg</th>\n",
       "      <td>1.000000</td>\n",
       "      <td>0.011428</td>\n",
       "      <td>-0.015241</td>\n",
       "    </tr>\n",
       "    <tr>\n",
       "      <th>start_roc</th>\n",
       "      <td>0.011428</td>\n",
       "      <td>1.000000</td>\n",
       "      <td>0.215129</td>\n",
       "    </tr>\n",
       "    <tr>\n",
       "      <th>glc_change</th>\n",
       "      <td>-0.015241</td>\n",
       "      <td>0.215129</td>\n",
       "      <td>1.000000</td>\n",
       "    </tr>\n",
       "  </tbody>\n",
       "</table>\n",
       "</div>"
      ],
      "text/plain": [
       "              iob_kg  start_roc  glc_change\n",
       "iob_kg      1.000000   0.011428   -0.015241\n",
       "start_roc   0.011428   1.000000    0.215129\n",
       "glc_change -0.015241   0.215129    1.000000"
      ]
     },
     "execution_count": 27,
     "metadata": {},
     "output_type": "execute_result"
    }
   ],
   "source": [
    "df[['iob_kg', 'start_roc', 'glc_change']].corr()\n"
   ]
  },
  {
   "cell_type": "code",
   "execution_count": 28,
   "metadata": {},
   "outputs": [
    {
     "name": "stdout",
     "output_type": "stream",
     "text": [
      "     feature         VIF\n",
      "0      const  114.810844\n",
      "1     iob_kg    1.036638\n",
      "2  start_roc    1.389355\n",
      "3   exercise    1.000252\n",
      "4   duration    1.015887\n",
      "5        age    1.141799\n",
      "6         cv    1.418203\n",
      "7        bmi    1.085672\n",
      "8      hba1c    1.157392\n",
      "9        glc    1.167797\n"
     ]
    }
   ],
   "source": [
    "from statsmodels.stats.outliers_influence import variance_inflation_factor\n",
    "from statsmodels.tools.tools import add_constant\n",
    "\n",
    "# Create the matrix of predictors (include all fixed effects if you want full multicollinearity check)\n",
    "X = df[['iob_kg', 'start_roc', 'exercise', 'duration', 'age', 'cv', 'bmi', 'hba1c', 'glc']]  # exclude glc_quadratic for now\n",
    "X = add_constant(X)  # required for VIF\n",
    "\n",
    "# Compute VIFs\n",
    "vif_data = pd.DataFrame()\n",
    "vif_data[\"feature\"] = X.columns\n",
    "vif_data[\"VIF\"] = [variance_inflation_factor(X.values, i) for i in range(X.shape[1])]\n",
    "\n",
    "print(vif_data)\n"
   ]
  },
  {
   "cell_type": "code",
   "execution_count": null,
   "metadata": {},
   "outputs": [],
   "source": []
  }
 ],
 "metadata": {
  "kernelspec": {
   "display_name": ".venv",
   "language": "python",
   "name": "python3"
  },
  "language_info": {
   "codemirror_mode": {
    "name": "ipython",
    "version": 3
   },
   "file_extension": ".py",
   "mimetype": "text/x-python",
   "name": "python",
   "nbconvert_exporter": "python",
   "pygments_lexer": "ipython3",
   "version": "3.10.12"
  }
 },
 "nbformat": 4,
 "nbformat_minor": 2
}
